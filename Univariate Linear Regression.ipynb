{
 "cells": [
  {
   "cell_type": "code",
   "execution_count": 141,
   "metadata": {
    "scrolled": true
   },
   "outputs": [],
   "source": [
    "import seaborn as sns\n",
    "import numpy as np\n",
    "import math\n",
    "import matplotlib.pyplot as plt"
   ]
  },
  {
   "cell_type": "markdown",
   "metadata": {},
   "source": [
    "#### Data Creation"
   ]
  },
  {
   "cell_type": "code",
   "execution_count": 139,
   "metadata": {},
   "outputs": [],
   "source": [
    "def create_data(start=0, stop=10, step=1, noise=0, slope=1, intercept_y=0, plot=False):\n",
    "    \"\"\"Creates data as specified\"\"\"\n",
    "    x = np.arange(start,stop,step)\n",
    "    y = (intercept_y) + (slope)*x\n",
    "    y_noise = y + noise * np.random.randn(*y.shape)\n",
    "\n",
    "    if(plot):\n",
    "        sns.scatterplot(x,y,label='Normal Data')\n",
    "        sns.scatterplot(x,y_noise,label='Noised Data')\n",
    "        sns.despine(offset=10)\n",
    "        plt.show()\n",
    "    \n",
    "    return {'x':x,'y':y,'y_noise':y_noise}"
   ]
  },
  {
   "cell_type": "markdown",
   "metadata": {},
   "source": [
    "##### RSS (Residual Sum of Squares) - Cost Function"
   ]
  },
  {
   "cell_type": "code",
   "execution_count": 97,
   "metadata": {},
   "outputs": [],
   "source": [
    "def RSS(x=None, y=None, weight_0=0.0, weight_1=0.0):\n",
    "    \"\"\"Calculates and returns the Residual Square Sum for univarient Linear Regression\n",
    "\n",
    "    x = the independent variable column, could be a list, numpy array\n",
    "    y = the dependent variable column, could be a list, numpy array\n",
    "    weight_0 = First weight / Y Intercept\n",
    "    weight_1 = Second weight / Slope\n",
    "    \n",
    "    Warning(s):\n",
    "    x and y lengths should be same or it will return the answer over the iterations of the smallest among two because zip function is used\"\"\"\n",
    "    return np.sum(((y-(weight_0 + weight_1*x))**2 for x,y in zip(x,y)))"
   ]
  },
  {
   "cell_type": "code",
   "execution_count": 98,
   "metadata": {},
   "outputs": [],
   "source": [
    "def RSS_for_gd(errors=None):\n",
    "    \"\"\"RSS function specially re-defined to calculate cost particularly to be called from gradient_descent function.\n",
    "    \n",
    "    errors = the errors in prediction of y as a vector\n",
    "    \n",
    "    returns: Residual Sum of Squares/Cost\"\"\"\n",
    "    return np.sum(errors**2)"
   ]
  },
  {
   "cell_type": "markdown",
   "metadata": {},
   "source": [
    "#### Gradient Descent"
   ]
  },
  {
   "cell_type": "code",
   "execution_count": 99,
   "metadata": {},
   "outputs": [],
   "source": [
    "def gradient_descent(x=None, y=None, slope=0, intercept=0, step_size=0.00001,tolerance_gradient=0.01, tolerance_cost=0.00001):\n",
    "    \"\"\"Calculates slope and intercept which give (close to) minimum possible cost, where derivative is (supposedly) zero.\n",
    "    \n",
    "    x = the independent variable column, could be a list, numpy array\n",
    "    y = the dependent variable column, could be a list, numpy array\n",
    "    slope = (default =) 0\n",
    "    intercept = (default =) 0\n",
    "    step_size =  (default =) 0.00001, the alpha - helps scale the value of derivatives\n",
    "    tolerance_gradient = (default =) 0.01, how much to tolerate for the value of magnitude of gradient\n",
    "    tolerance_cost = (default =) 0.00001, how much to tolerate for the value of cost\n",
    "    \n",
    "    return: a dictionary containing calculated slope, intercept, number of iterations and reason of convergence\n",
    "    \"\"\"\n",
    "    i = 0\n",
    "    cost_prev = 1000000\n",
    "    while(True):\n",
    "        i += 1\n",
    "        predicted_values = np.add(intercept,np.multiply(slope,x))\n",
    "        errors = np.subtract(predicted_values,y)\n",
    "        \n",
    "        intercept_grad = np.sum(errors)\n",
    "        intercept -= step_size*intercept_grad\n",
    "        \n",
    "        slope_grad = np.sum(np.multiply(errors,x))\n",
    "        slope -= step_size*slope_grad\n",
    "        \n",
    "        magnitude = np.sqrt( np.sum(errors)**2 + np.sum( np.multiply(errors,x) )**2 )\n",
    "       \n",
    "        cost = RSS_for_gd(errors=errors)\n",
    "\n",
    "        #print('i = %3d | Inter_Grad: %2.2f | Intrcpt: %2.2f |  S_Grad: %2.2f  | Slope: %2.2f | Magnitude: %2.2f | RSS: %2.2f' % (i,intercept_grad, intercept,slope_grad,slope,magnitude,RSS_for_gd(errors=errors)))\n",
    "#         if i%10000 == 0:\n",
    "#             print(\"Cost difference: %.20f\" % abs(cost - cost_prev))\n",
    "#             print(\"Gradient Magnitude: %.20f\" % magnitude)\n",
    "#             print()\n",
    "        \n",
    "        if(abs(cost - cost_prev) < tolerance_cost):\n",
    "            return {'intercept':intercept,'slope':slope,'iterations':i,'reason':'Cost tolerance satisfied'}\n",
    "            \n",
    "        if magnitude <= tolerance_gradient:\n",
    "            return {'intercept':intercept,'slope':slope,'iterations':i,'reason':'Gradient tolerance satisfied'}\n",
    "        \n",
    "        cost_prev = cost"
   ]
  },
  {
   "cell_type": "code",
   "execution_count": 171,
   "metadata": {},
   "outputs": [],
   "source": [
    "data = create_data(0,100,1,5,2,1,False)\n",
    "x,y,y_noise = data['x'],data['y'],data['y_noise']"
   ]
  },
  {
   "cell_type": "code",
   "execution_count": 172,
   "metadata": {},
   "outputs": [
    {
     "name": "stdout",
     "output_type": "stream",
     "text": [
      "Completed\n",
      "Reason:  Cost tolerance satisfied\n",
      "Intercept:  0.7626627492602882\n",
      "Slope:  2.014143972732023\n",
      "Iterations:  373982\n"
     ]
    }
   ],
   "source": [
    "result = gradient_descent(x=x,y=y_noise,step_size=0.000001,tolerance_gradient=0.00001, tolerance_cost = 0.00000000000000001)\n",
    "print('Completed')\n",
    "print('Reason: ',result['reason'])\n",
    "print('Intercept: ',result['intercept'])\n",
    "print('Slope: ', result['slope'])\n",
    "print('Iterations: ', result['iterations'])"
   ]
  },
  {
   "cell_type": "code",
   "execution_count": 173,
   "metadata": {
    "scrolled": true
   },
   "outputs": [
    {
     "data": {
      "image/png": "[encoded data removed]",
      "text/plain": [
       "<Figure size 432x288 with 1 Axes>"
      ]
     },
     "metadata": {},
     "output_type": "display_data"
    }
   ],
   "source": [
    "sns.scatterplot(x,y_noise,color='grey')\n",
    "y_bar = float(result['intercept'])+ np.multiply(float(result['slope']),x)\n",
    "sns.lineplot(x,y_bar,color='red')\n",
    "sns.despine(offset=10)\n",
    "plt.show()"
   ]
  },
  {
   "cell_type": "code",
   "execution_count": null,
   "metadata": {},
   "outputs": [],
   "source": []
  },
  {
   "cell_type": "code",
   "execution_count": null,
   "metadata": {},
   "outputs": [],
   "source": []
  },
  {
   "cell_type": "code",
   "execution_count": null,
   "metadata": {},
   "outputs": [],
   "source": []
  },
  {
   "cell_type": "code",
   "execution_count": null,
   "metadata": {},
   "outputs": [],
   "source": []
  },
  {
   "cell_type": "code",
   "execution_count": null,
   "metadata": {},
   "outputs": [],
   "source": []
  }
 ],
 "metadata": {
  "kernelspec": {
   "display_name": "Python 3",
   "language": "python",
   "name": "python3"
  },
  "language_info": {
   "codemirror_mode": {
    "name": "ipython",
    "version": 3
   },
   "file_extension": ".py",
   "mimetype": "text/x-python",
   "name": "python",
   "nbconvert_exporter": "python",
   "pygments_lexer": "ipython3",
   "version": "3.5.2"
  }
 },
 "nbformat": 4,
 "nbformat_minor": 2
}
