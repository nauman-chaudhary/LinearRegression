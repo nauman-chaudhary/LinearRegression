{
 "cells": [
  {
   "cell_type": "code",
   "execution_count": 3,
   "metadata": {},
   "outputs": [],
   "source": [
    "import seaborn as sns\n",
    "import numpy as np\n",
    "import math\n",
    "import matplotlib.pyplot as plt\n",
    "import pandas as pd\n",
    "from sklearn import datasets\n",
    "import seaborn as sns\n",
    "import time"
   ]
  },
  {
   "cell_type": "code",
   "execution_count": 4,
   "metadata": {},
   "outputs": [],
   "source": [
    "def setting_data(data=None):\n",
    "    feature_matrix = np.ones((np.ma.size(data,axis=0),np.ma.size(data,axis=1)+1))\n",
    "    feature_matrix[:,1:] = data\n",
    "    return feature_matrix"
   ]
  },
  {
   "cell_type": "code",
   "execution_count": 5,
   "metadata": {},
   "outputs": [],
   "source": [
    "def predict_values(feature_matrix=None, weights=None):\n",
    "    return np.dot(a=feature_matrix,b=weights)"
   ]
  },
  {
   "cell_type": "code",
   "execution_count": 6,
   "metadata": {},
   "outputs": [],
   "source": [
    "def plynomial_features_generation(data=None, degree=0):\n",
    "    return np.hstack((data,np.power(data,np.arange(start=2,stop=degree+1))))"
   ]
  },
  {
   "cell_type": "code",
   "execution_count": 7,
   "metadata": {},
   "outputs": [],
   "source": [
    "def normalize_data(data=None):\n",
    "    data = data.astype(float)\n",
    "    for i in range(data.shape[1]):\n",
    "        data[:,i] = np.divide(np.subtract(data[:,i],np.mean(data[:,i])), np.std(data[:,i])).astype(float)\n",
    "    return data"
   ]
  },
  {
   "cell_type": "code",
   "execution_count": 9,
   "metadata": {},
   "outputs": [],
   "source": [
    "def gradient_descent(x=None,y=None,tolerance_gradient=0.01, tolerance_cost=0.0000001,\n",
    "                     step_size = 0.001, max_iter=10000,l2_regularization=0):\n",
    "    \n",
    "    feature_matrix = setting_data(data=x)\n",
    "    \n",
    "    weights = np.random.rand(x.shape[1] + 1, 1)\n",
    "    partials = np.zeros(x.shape[1]+1).reshape((-1,1))\n",
    "    \n",
    "    i = 0\n",
    "    prev_cost = 10\n",
    "    costs = np.array([])\n",
    "    gradients = np.array([])\n",
    "    \n",
    "    converged = False\n",
    "    while not converged:\n",
    "        i += 1\n",
    "        \n",
    "        predicted = predict_values(feature_matrix=feature_matrix, weights=weights)\n",
    "        errors = np.subtract(predicted, y)\n",
    "        #Updating weights\n",
    "        \n",
    "        #taking derivative\n",
    "        partials = np.dot(feature_matrix.T,errors)\n",
    "        # np.multiply(weights,1-2*step_size*l2_regularization) This is the total change :p\n",
    "        weights = np.subtract(np.multiply(weights,1-2*step_size*l2_regularization),np.multiply(step_size,partials))\n",
    "        \n",
    "        gradient_magnitude = np.sqrt(np.sum(np.square(partials)))\n",
    "        cur_cost = np.sum(np.square(errors))\n",
    "        \n",
    "        gradients = np.append(gradients,gradient_magnitude)\n",
    "        costs = np.append(costs,cur_cost)\n",
    "#         if i%1000==0:\n",
    "#             print(cur_cost)\n",
    "#         print(abs(cur_cost - prev_cost))\n",
    "        if (gradient_magnitude <= tolerance_gradient) or (abs(cur_cost - prev_cost) < tolerance_cost):\n",
    "            if gradient_magnitude <= tolerance_gradient:\n",
    "                print('[Gradient Magnitude - Tolerance] Satisfied')\n",
    "            else:\n",
    "                print('[Cost Tolerance - Precision] Satisfied')\n",
    "            converged = True\n",
    "\n",
    "        if i >= max_iter:\n",
    "            print('Iterations Completed')\n",
    "            converged = True\n",
    "        \n",
    "        prev_cost = cur_cost\n",
    "    return (i, weights,gradients, costs)"
   ]
  },
  {
   "cell_type": "code",
   "execution_count": null,
   "metadata": {},
   "outputs": [],
   "source": []
  }
 ],
 "metadata": {
  "kernelspec": {
   "display_name": "Python 3",
   "language": "python",
   "name": "python3"
  },
  "language_info": {
   "codemirror_mode": {
    "name": "ipython",
    "version": 3
   },
   "file_extension": ".py",
   "mimetype": "text/x-python",
   "name": "python",
   "nbconvert_exporter": "python",
   "pygments_lexer": "ipython3",
   "version": "3.5.2"
  }
 },
 "nbformat": 4,
 "nbformat_minor": 2
}
