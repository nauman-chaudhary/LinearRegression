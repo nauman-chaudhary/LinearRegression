{
 "cells": [
  {
   "cell_type": "code",
   "execution_count": 53,
   "metadata": {},
   "outputs": [],
   "source": [
    "import seaborn as sns\n",
    "import numpy as np\n",
    "import math\n",
    "import matplotlib.pyplot as plt\n",
    "import pandas as pd\n",
    "from sklearn import datasets\n",
    "import time"
   ]
  },
  {
   "cell_type": "code",
   "execution_count": 2,
   "metadata": {},
   "outputs": [],
   "source": [
    "def setting_data(data=None):\n",
    "    feature_matrix = np.ones((np.ma.size(data,axis=0),np.ma.size(data,axis=1)+1))\n",
    "    feature_matrix[:,1:] = data\n",
    "    return feature_matrix"
   ]
  },
  {
   "cell_type": "code",
   "execution_count": 3,
   "metadata": {},
   "outputs": [],
   "source": [
    "def predict_values(feature_matrix=None, weights=None):\n",
    "    return np.dot(a=feature_matrix,b=weights)"
   ]
  },
  {
   "cell_type": "code",
   "execution_count": 121,
   "metadata": {},
   "outputs": [],
   "source": [
    "def polynomial_features_generation(data=None, degree=0):\n",
    "    return np.hstack((data,np.power(data,np.arange(start=2,stop=degree+1))))"
   ]
  },
  {
   "cell_type": "code",
   "execution_count": 5,
   "metadata": {},
   "outputs": [],
   "source": [
    "def normalize_data(data=None):\n",
    "    data = data.astype(float)\n",
    "    for i in range(data.shape[1]):\n",
    "        data[:,i] = np.divide(np.subtract(data[:,i],np.mean(data[:,i])), np.std(data[:,i])).astype(float)\n",
    "    return data"
   ]
  },
  {
   "cell_type": "code",
   "execution_count": 16,
   "metadata": {},
   "outputs": [],
   "source": [
    "def gradient_descent(x=None,y=None,tolerance_gradient=0.01, tolerance_cost=0.0000001,\n",
    "                     alpha = 0.001, max_iter=10000,l2_regularization=0):\n",
    "   \n",
    "    feature_matrix = setting_data(data=x)\n",
    "    \n",
    "    weights = np.random.rand(x.shape[1] + 1, 1)\n",
    "    partials = np.zeros(x.shape[1]+1).reshape((-1,1))\n",
    "    \n",
    "    i = 0\n",
    "    prev_cost = 10\n",
    "    costs = []\n",
    "    gradients = []\n",
    "    \n",
    "    converged = False\n",
    "    while not converged:\n",
    "        i += 1\n",
    "        \n",
    "        predicted = predict_values(feature_matrix=feature_matrix, weights=weights)\n",
    "        errors = np.subtract(predicted, y)\n",
    "        #Updating weights\n",
    "        \n",
    "        #taking derivative\n",
    "        partials = np.dot(feature_matrix.T,errors)\n",
    "        #This is the total change :p\n",
    "#         step_size = np.multiply(alpha,partials)\n",
    "#         weights_regularized = np.vstack((weights[0],np.multiply(weights[1:],1-2*alpha*l2_regularization)))\n",
    "        \n",
    "        weights = np.subtract(np.vstack((weights[0],np.multiply(weights[1:],1-2*alpha*l2_regularization))),\n",
    "                              np.multiply(alpha,partials))\n",
    "        \n",
    "        gradient_magnitude = np.sqrt(np.sum(np.square(partials)))\n",
    "        cur_cost = np.sum(np.square(errors))\n",
    "        \n",
    "#         gradients = np.append(gradients,gradient_magnitude)\n",
    "#         costs = np.append(costs,cur_cost)\n",
    "        gradients.append(gradient_magnitude)\n",
    "        costs.append(cur_cost)\n",
    "\n",
    "#         if i%1000==0:\n",
    "#             print(cur_cost)\n",
    "#         print(abs(cur_cost - prev_cost))\n",
    "        if (gradient_magnitude <= tolerance_gradient) or (abs(cur_cost - prev_cost) < tolerance_cost):\n",
    "            if gradient_magnitude <= tolerance_gradient:\n",
    "                print('[Gradient Magnitude - Tolerance] Satisfied')\n",
    "            else:\n",
    "                print('[Cost Tolerance - Precision] Satisfied')\n",
    "            converged = True\n",
    "\n",
    "        if i >= max_iter:\n",
    "            print('Iterations Completed')\n",
    "            converged = True\n",
    "        \n",
    "        prev_cost = cur_cost\n",
    "    return (i, np.array(weights),np.array(gradients), costs)"
   ]
  },
  {
   "cell_type": "code",
   "execution_count": 7,
   "metadata": {},
   "outputs": [],
   "source": [
    "x = np.arange(-10, 11).reshape(-1,1)\n",
    "y = (10 + 2*x + 5*x**2).astype(float).reshape(-1,1)"
   ]
  },
  {
   "cell_type": "code",
   "execution_count": 8,
   "metadata": {
    "scrolled": true
   },
   "outputs": [
    {
     "data": {
      "image/png": "[encoded data removed]",
      "text/plain": [
       "<Figure size 432x288 with 1 Axes>"
      ]
     },
     "metadata": {
      "needs_background": "light"
     },
     "output_type": "display_data"
    }
   ],
   "source": [
    "plt.plot(x, y)\n",
    "plt.show()"
   ]
  },
  {
   "cell_type": "markdown",
   "metadata": {},
   "source": [
    "Generating Polynomial Features"
   ]
  },
  {
   "cell_type": "code",
   "execution_count": 9,
   "metadata": {},
   "outputs": [],
   "source": [
    "degree = 2\n",
    "x_poly = polynomial_features_generation(x,degree)"
   ]
  },
  {
   "cell_type": "code",
   "execution_count": 10,
   "metadata": {},
   "outputs": [],
   "source": [
    "x_norm = normalize_data(x_poly)\n",
    "y_norm = (10 + 2*x_norm[:,0] + 5*x_norm[:,1]**2).reshape(-1,1)"
   ]
  },
  {
   "cell_type": "code",
   "execution_count": 17,
   "metadata": {},
   "outputs": [
    {
     "name": "stdout",
     "output_type": "stream",
     "text": [
      "[Cost Tolerance - Precision] Satisfied\n"
     ]
    }
   ],
   "source": [
    "start_time = time.time()\n",
    "i,cal_weights, grads, costs = gradient_descent(x=x_poly, y=y,alpha=1e-5,tolerance_cost=1e-7,\n",
    "                                               tolerance_gradient=1e-7, max_iter=1e7)\n",
    "end_time = time.time()"
   ]
  },
  {
   "cell_type": "code",
   "execution_count": 18,
   "metadata": {},
   "outputs": [
    {
     "name": "stdout",
     "output_type": "stream",
     "text": [
      "Time taken:  3.543224573135376\n",
      "Iterations:  76464\n",
      "Calculated weights:\n",
      " [[9.99239558]\n",
      " [2.        ]\n",
      " [5.00011559]]\n"
     ]
    }
   ],
   "source": [
    "print('Time taken: ',end_time-start_time)\n",
    "print('Iterations: ',i)\n",
    "print('Calculated weights:\\n',cal_weights)"
   ]
  },
  {
   "cell_type": "markdown",
   "metadata": {},
   "source": [
    "Orignal weights were: 10    2    5"
   ]
  },
  {
   "cell_type": "markdown",
   "metadata": {},
   "source": [
    "###### Running on real dataset"
   ]
  },
  {
   "cell_type": "code",
   "execution_count": 161,
   "metadata": {},
   "outputs": [],
   "source": [
    "house_data = pd.read_csv('Related Datasets/kc_house_data.csv')\n",
    "house_test_data = pd.read_csv('Related Datasets/kc_house_test_data.csv')\n",
    "house_train_data = pd.read_csv('Related Datasets/kc_house_train_data.csv')"
   ]
  },
  {
   "cell_type": "code",
   "execution_count": 162,
   "metadata": {},
   "outputs": [],
   "source": [
    "data = np.array(house_train_data['sqft_living']).reshape(-1,1)\n",
    "target = np.array(house_train_data['price']).reshape(-1,1)"
   ]
  },
  {
   "cell_type": "markdown",
   "metadata": {},
   "source": [
    "Normalizing data"
   ]
  },
  {
   "cell_type": "code",
   "execution_count": 163,
   "metadata": {},
   "outputs": [
    {
     "data": {
      "text/plain": [
       "(17384, 1)"
      ]
     },
     "execution_count": 163,
     "metadata": {},
     "output_type": "execute_result"
    }
   ],
   "source": [
    "data = normalize_data(data)\n",
    "data.shape"
   ]
  },
  {
   "cell_type": "markdown",
   "metadata": {},
   "source": [
    "Generating polynomail features"
   ]
  },
  {
   "cell_type": "code",
   "execution_count": 164,
   "metadata": {},
   "outputs": [
    {
     "data": {
      "text/plain": [
       "(17384, 4)"
      ]
     },
     "execution_count": 164,
     "metadata": {},
     "output_type": "execute_result"
    }
   ],
   "source": [
    "data = plynomial_features_generation(data,4)\n",
    "data.shape"
   ]
  },
  {
   "cell_type": "markdown",
   "metadata": {},
   "source": [
    "with small lambda"
   ]
  },
  {
   "cell_type": "code",
   "execution_count": 165,
   "metadata": {},
   "outputs": [
    {
     "name": "stdout",
     "output_type": "stream",
     "text": [
      "Iterations Completed\n"
     ]
    }
   ],
   "source": [
    "start_time = time.time()\n",
    "i,weights_l2_0, grads, costs = gradient_descent(x=data, y=target,alpha=1e-12,tolerance_cost=1e-7,\n",
    "                                               tolerance_gradient=1e-7, max_iter=1000,l2_regularization=0)\n",
    "end_time = time.time()"
   ]
  },
  {
   "cell_type": "code",
   "execution_count": 166,
   "metadata": {},
   "outputs": [
    {
     "name": "stdout",
     "output_type": "stream",
     "text": [
      "Time taken:  0.18244552612304688\n",
      "Iterations:  1000\n",
      "Calculated weights:\n",
      " [[ 10.1814993756]\n",
      " [  4.3676006382]\n",
      " [ 17.8875423705]\n",
      " [ 56.2186123593]\n",
      " [285.755141929 ]]\n"
     ]
    }
   ],
   "source": [
    "print('Time taken: ',end_time-start_time)\n",
    "print('Iterations: ',i)\n",
    "np.set_printoptions(precision=10)\n",
    "print('Calculated weights:\\n',weights_l2_0)"
   ]
  },
  {
   "cell_type": "markdown",
   "metadata": {},
   "source": [
    "With big lambda"
   ]
  },
  {
   "cell_type": "code",
   "execution_count": 167,
   "metadata": {},
   "outputs": [
    {
     "name": "stdout",
     "output_type": "stream",
     "text": [
      "Iterations Completed\n"
     ]
    }
   ],
   "source": [
    "start_time = time.time()\n",
    "i,weights_l2_1e11, grads, costs = gradient_descent(x=data, y=target,alpha=1e-12,tolerance_cost=1e-7,\n",
    "                                               tolerance_gradient=1e-7, max_iter=1000,l2_regularization=1e11)\n",
    "end_time = time.time()"
   ]
  },
  {
   "cell_type": "code",
   "execution_count": 168,
   "metadata": {},
   "outputs": [
    {
     "name": "stdout",
     "output_type": "stream",
     "text": [
      "Time taken:  0.18956398963928223\n",
      "Iterations:  1000\n",
      "Calculated weights:\n",
      " [[10.1188985258]\n",
      " [ 0.0225762813]\n",
      " [ 0.0959568567]\n",
      " [ 0.3431499141]\n",
      " [ 2.1470536065]]\n"
     ]
    }
   ],
   "source": [
    "print('Time taken: ',end_time-start_time)\n",
    "print('Iterations: ',i)\n",
    "np.set_printoptions(precision=10)\n",
    "print('Calculated weights:\\n',weights_l2_1e11)"
   ]
  },
  {
   "cell_type": "code",
   "execution_count": 169,
   "metadata": {},
   "outputs": [
    {
     "name": "stdout",
     "output_type": "stream",
     "text": [
      "Iterations Completed\n"
     ]
    }
   ],
   "source": []
  },
  {
   "cell_type": "code",
   "execution_count": null,
   "metadata": {},
   "outputs": [],
   "source": []
  },
  {
   "cell_type": "code",
   "execution_count": 174,
   "metadata": {
    "scrolled": false
   },
   "outputs": [
    {
     "data": {
      "text/plain": [
       "<matplotlib.axes._subplots.AxesSubplot at 0x7fccc82bf160>"
      ]
     },
     "execution_count": 174,
     "metadata": {},
     "output_type": "execute_result"
    },
    {
     "data": {
      "image/png": "[encoded data removed]",
      "text/plain": [
       "<Figure size 720x720 with 1 Axes>"
      ]
     },
     "metadata": {
      "needs_background": "light"
     },
     "output_type": "display_data"
    }
   ],
   "source": [
    "plt.figure(figsize=(10,10))\n",
    "\n",
    "result_l2_0 = weights_l2_0[0] + weights_l2_0[1]*data[:,0] + weights_l2_0[2]*data[:,1] + weights_l2_0[3]*data[:,2] + weights_l2_0[4]*data[:,3]\n",
    "temp_df_small_l2 = pd.DataFrame(data)\n",
    "temp_df_small_l2['predicted_price'] = result_l2_0\n",
    "sns.scatterplot(data=temp_df_small_l2,x=0,y='predicted_price',color='r')\n",
    "\n",
    "result_l2_1e11 = weights_l2_1e11[0] + weights_l2_1e11[1]*data[:,0] + weights_l2_1e11[2]*data[:,1] + weights_l2_1e11[3]*data[:,2] + weights_l2_1e11[4]*data[:,3]\n",
    "temp_df_big_l2 = pd.DataFrame(data)\n",
    "temp_df_big_l2['predicted_price'] = result_l2_1e11\n",
    "sns.scatterplot(data=temp_df_big_l2,x=0,y='predicted_price',color='b')\n",
    "\n",
    "sns.scatterplot(data=house_train_data,x='sqft_living',y='price',color='g')"
   ]
  },
  {
   "cell_type": "code",
   "execution_count": 178,
   "metadata": {},
   "outputs": [
    {
     "name": "stdout",
     "output_type": "stream",
     "text": [
      "For 0 l2: 86363005.19583146\n",
      "For 1e12 l2: 86212057.62682746\n"
     ]
    }
   ],
   "source": [
    "print('For 0 l2:',root_mean_squared_error(result_l2_0,target,target.shape[0]))\n",
    "print('For 1e12 l2:',root_mean_squared_error(result_l2_1e11,target,target.shape[0]))"
   ]
  },
  {
   "cell_type": "code",
   "execution_count": 183,
   "metadata": {},
   "outputs": [
    {
     "data": {
      "text/html": [
       "<div>\n",
       "<style scoped>\n",
       "    .dataframe tbody tr th:only-of-type {\n",
       "        vertical-align: middle;\n",
       "    }\n",
       "\n",
       "    .dataframe tbody tr th {\n",
       "        vertical-align: top;\n",
       "    }\n",
       "\n",
       "    .dataframe thead th {\n",
       "        text-align: right;\n",
       "    }\n",
       "</style>\n",
       "<table border=\"1\" class=\"dataframe\">\n",
       "  <thead>\n",
       "    <tr style=\"text-align: right;\">\n",
       "      <th></th>\n",
       "      <th>y_true</th>\n",
       "      <th>y_pred_no_reg</th>\n",
       "      <th>y_pred_reg</th>\n",
       "    </tr>\n",
       "  </thead>\n",
       "  <tbody>\n",
       "    <tr>\n",
       "      <th>0</th>\n",
       "      <td>221900.0</td>\n",
       "      <td>230.535859</td>\n",
       "      <td>11.103986</td>\n",
       "    </tr>\n",
       "    <tr>\n",
       "      <th>1</th>\n",
       "      <td>538000.0</td>\n",
       "      <td>48.836973</td>\n",
       "      <td>9.663396</td>\n",
       "    </tr>\n",
       "    <tr>\n",
       "      <th>2</th>\n",
       "      <td>180000.0</td>\n",
       "      <td>1045.295937</td>\n",
       "      <td>17.343138</td>\n",
       "    </tr>\n",
       "    <tr>\n",
       "      <th>3</th>\n",
       "      <td>604000.0</td>\n",
       "      <td>9.874101</td>\n",
       "      <td>9.399721</td>\n",
       "    </tr>\n",
       "    <tr>\n",
       "      <th>4</th>\n",
       "      <td>510000.0</td>\n",
       "      <td>17.201733</td>\n",
       "      <td>9.457604</td>\n",
       "    </tr>\n",
       "  </tbody>\n",
       "</table>\n",
       "</div>"
      ],
      "text/plain": [
       "     y_true  y_pred_no_reg  y_pred_reg\n",
       "0  221900.0     230.535859   11.103986\n",
       "1  538000.0      48.836973    9.663396\n",
       "2  180000.0    1045.295937   17.343138\n",
       "3  604000.0       9.874101    9.399721\n",
       "4  510000.0      17.201733    9.457604"
      ]
     },
     "execution_count": 183,
     "metadata": {},
     "output_type": "execute_result"
    }
   ],
   "source": [
    "df = pd.DataFrame({'y_true': target[:,0], 'y_pred_no_reg': result_l2_0, 'y_pred_reg': result_l2_1e11})\n",
    "df.head()"
   ]
  },
  {
   "cell_type": "code",
   "execution_count": 182,
   "metadata": {},
   "outputs": [
    {
     "data": {
      "text/plain": [
       "(17384, 1)"
      ]
     },
     "execution_count": 182,
     "metadata": {},
     "output_type": "execute_result"
    }
   ],
   "source": [
    "target.shape"
   ]
  },
  {
   "cell_type": "code",
   "execution_count": 173,
   "metadata": {},
   "outputs": [
    {
     "name": "stderr",
     "output_type": "stream",
     "text": [
      "/home/nauman/.local/lib/python3.6/site-packages/scipy/stats/stats.py:1713: FutureWarning: Using a non-tuple sequence for multidimensional indexing is deprecated; use `arr[tuple(seq)]` instead of `arr[seq]`. In the future this will be interpreted as an array index, `arr[np.array(seq)]`, which will result either in an error or a different result.\n",
      "  return np.add.reduce(sorted[indexer] * weights, axis=axis) / sumval\n"
     ]
    },
    {
     "data": {
      "text/plain": [
       "<matplotlib.axes._subplots.AxesSubplot at 0x7fccc83e67b8>"
      ]
     },
     "execution_count": 173,
     "metadata": {},
     "output_type": "execute_result"
    },
    {
     "data": {
      "image/png": "[encoded data removed]",
      "text/plain": [
       "<Figure size 432x288 with 1 Axes>"
      ]
     },
     "metadata": {
      "needs_background": "light"
     },
     "output_type": "display_data"
    }
   ],
   "source": [
    "sns.lineplot(data=temp_df_big_l2,x=0,y='predicted_price',color='b')"
   ]
  },
  {
   "cell_type": "code",
   "execution_count": 175,
   "metadata": {},
   "outputs": [],
   "source": [
    "def root_mean_squared_error(y=None,y_bar=None,no_of_observations=0):\n",
    "    return np.sqrt(np.divide(np.sum(np.square(np.subtract(y,y_bar))),no_of_observations))"
   ]
  },
  {
   "cell_type": "code",
   "execution_count": 176,
   "metadata": {},
   "outputs": [],
   "source": [
    "a = np.array([1,2,3]).reshape(-1,1)"
   ]
  },
  {
   "cell_type": "code",
   "execution_count": null,
   "metadata": {},
   "outputs": [],
   "source": []
  },
  {
   "cell_type": "code",
   "execution_count": null,
   "metadata": {},
   "outputs": [],
   "source": []
  }
 ],
 "metadata": {
  "kernelspec": {
   "display_name": "Python 3",
   "language": "python",
   "name": "python3"
  },
  "language_info": {
   "codemirror_mode": {
    "name": "ipython",
    "version": 3
   },
   "file_extension": ".py",
   "mimetype": "text/x-python",
   "name": "python",
   "nbconvert_exporter": "python",
   "pygments_lexer": "ipython3",
   "version": "3.6.5"
  }
 },
 "nbformat": 4,
 "nbformat_minor": 2
}
