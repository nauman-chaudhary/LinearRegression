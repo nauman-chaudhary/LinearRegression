{
 "cells": [
  {
   "cell_type": "code",
   "execution_count": 1,
   "metadata": {},
   "outputs": [],
   "source": [
    "import numpy as np\n",
    "import seaborn as sns\n",
    "import matplotlib.pyplot as plt\n",
    "import pandas as pd\n",
    "import time\n",
    "import math"
   ]
  },
  {
   "cell_type": "code",
   "execution_count": 2,
   "metadata": {},
   "outputs": [],
   "source": [
    "def setting_data(data=None):\n",
    "    feature_matrix = np.ones((np.ma.size(data,axis=0),np.ma.size(data,axis=1)+1))\n",
    "    feature_matrix[:,1:] = data\n",
    "    return feature_matrix"
   ]
  },
  {
   "cell_type": "code",
   "execution_count": 3,
   "metadata": {},
   "outputs": [],
   "source": [
    "def predict_values(feature_matrix=None, weights=None):\n",
    "    return np.dot(a=feature_matrix,b=weights)"
   ]
  },
  {
   "cell_type": "code",
   "execution_count": 4,
   "metadata": {},
   "outputs": [],
   "source": [
    "def polynomial_features_generation(data=None, degree=0):\n",
    "    return np.hstack((data,np.power(data,np.arange(start=2,stop=degree+1))))"
   ]
  },
  {
   "cell_type": "code",
   "execution_count": 5,
   "metadata": {},
   "outputs": [],
   "source": [
    "def standardization(data=None):\n",
    "    data = data.astype(float)\n",
    "    for i in range(data.shape[1]):\n",
    "        data[:,i] = np.divide(np.subtract(data[:,i],np.mean(data[:,i])), np.std(data[:,i])).astype(float)\n",
    "    return data"
   ]
  },
  {
   "cell_type": "code",
   "execution_count": 6,
   "metadata": {},
   "outputs": [],
   "source": [
    "def min_max_scaling(data=None):\n",
    "    data = data.astype(float)\n",
    "    for i in range(data.shape[1]):\n",
    "        min_ = np.min(data[:,i])\n",
    "        max_ = np.max(data[:,i])\n",
    "        max_minus_min = max_ - min_\n",
    "        data[:,i] = np.divide(np.subtract(data[:,i],min_),max_minus_min)\n",
    "    return data"
   ]
  },
  {
   "cell_type": "code",
   "execution_count": 7,
   "metadata": {},
   "outputs": [],
   "source": [
    "def normalize(feature_matrix=None):\n",
    "    norms = np.sqrt(np.sum(np.square(feature_matrix),axis=0))\n",
    "    normalized_features = feature_matrix/norms\n",
    "    return (normalized_features,norms)"
   ]
  },
  {
   "cell_type": "code",
   "execution_count": 8,
   "metadata": {},
   "outputs": [],
   "source": [
    "def root_mean_squared_error(y=None,y_bar=None,no_of_observations=0):\n",
    "    return np.sqrt(np.divide(np.sum(np.square(np.subtract(y,y_bar))),no_of_observations))"
   ]
  },
  {
   "cell_type": "code",
   "execution_count": 9,
   "metadata": {},
   "outputs": [],
   "source": [
    "def gradient_descent(x=None,y=None,tolerance_gradient=0.01, tolerance_cost=0.0000001,\n",
    "                     alpha = 0.001, max_iter=10000,l2_regularization=0):\n",
    "   \n",
    "    feature_matrix = setting_data(data=x)\n",
    "    \n",
    "    weights = np.random.rand(x.shape[1] + 1, 1)\n",
    "    partials = np.zeros(x.shape[1]+1).reshape((-1,1))\n",
    "    \n",
    "    i = 0\n",
    "    prev_cost = 10\n",
    "    costs = []\n",
    "    gradients = []\n",
    "    \n",
    "    converged = False\n",
    "    while not converged:\n",
    "        i += 1\n",
    "        \n",
    "        predicted = predict_values(feature_matrix=feature_matrix, weights=weights)\n",
    "        errors = np.subtract(predicted, y)\n",
    "        #Updating weights\n",
    "        \n",
    "        #taking derivative\n",
    "        partials = np.dot(feature_matrix.T,errors)\n",
    "        #This is the total change :p\n",
    "#         step_size = np.multiply(alpha,partials)\n",
    "#         weights_regularized = np.vstack((weights[0],np.multiply(weights[1:],1-2*alpha*l2_regularization)))\n",
    "        \n",
    "        weights = np.subtract(np.vstack((weights[0],np.multiply(weights[1:],1-2*alpha*l2_regularization))),\n",
    "                              np.multiply(alpha,partials))\n",
    "        \n",
    "        gradient_magnitude = np.sqrt(np.sum(np.square(partials)))\n",
    "        cur_cost = np.sum(np.square(errors))\n",
    "        \n",
    "#         gradients = np.append(gradients,gradient_magnitude)\n",
    "#         costs = np.append(costs,cur_cost)\n",
    "        gradients.append(gradient_magnitude)\n",
    "        costs.append(cur_cost)\n",
    "\n",
    "#         if i%1000==0:\n",
    "#             print(cur_cost)\n",
    "#         print(abs(cur_cost - prev_cost))\n",
    "        if (gradient_magnitude <= tolerance_gradient) or (abs(cur_cost - prev_cost) < tolerance_cost):\n",
    "            if gradient_magnitude <= tolerance_gradient:\n",
    "                print('[Gradient Magnitude - Tolerance] Satisfied')\n",
    "            else:\n",
    "                print('[Cost Tolerance - Precision] Satisfied')\n",
    "            converged = True\n",
    "\n",
    "        if i >= max_iter:\n",
    "            print('Iterations Completed')\n",
    "            converged = True\n",
    "        \n",
    "        prev_cost = cur_cost\n",
    "    return (i, np.array(weights),np.array(gradients), costs)"
   ]
  },
  {
   "cell_type": "code",
   "execution_count": 34,
   "metadata": {},
   "outputs": [],
   "source": [
    "def coordinate_descent(x=None,y=None, tolerance_step=0.0000001, \n",
    "                       max_iter=10000,l1_regularization=0):\n",
    "#     print('start')\n",
    "    feature_matrix = setting_data(data=x)\n",
    "    \n",
    "    weights = np.random.rand(x.shape[1] + 1, 1)\n",
    "    iteration = 0\n",
    "    max_step = 10\n",
    "    upper_limit = np.multiply(np.divide(l1_regularization,2),-1)\n",
    "    lower_limit = np.divide(l1_regularization,2)\n",
    "    \n",
    "    converged = False\n",
    "#     print('entering loop')\n",
    "    while not converged:\n",
    "        iteration += 1\n",
    "#         print('entering inner loop',iteration)\n",
    "        for j in range(0,x.shape[1]-1):\n",
    "            w_j_old = weights[j]\n",
    "            predicted = predict_values(feature_matrix=feature_matrix, weights=weights)\n",
    "            \n",
    "            predicted_no_j = predicted - np.multiply(feature_matrix[:,j],weights[j])\n",
    "            errors = np.subtract(predicted_no_j, y)\n",
    "            \n",
    "            roo = np.sum(np.multiply(feature_matrix[:,j],errors))\n",
    "            \n",
    "            if j==0:\n",
    "                weights[j] = roo\n",
    "            elif roo < lower_limit:\n",
    "                weights[j] = roo + upper_limit\n",
    "            elif roo > upper_limit:\n",
    "                weights[j] = roo - upper_limit\n",
    "            else:\n",
    "                weights[j] = 0\n",
    "                \n",
    "            step = abs(w_j_old - weights[j])\n",
    "            if(step>max_step):\n",
    "                max_step = step\n",
    "            \n",
    "        \n",
    "        if (max_step < tolerance_step):\n",
    "            print('Step Tolerance - Satisfied')\n",
    "            converged = True\n",
    "\n",
    "        if iteration >= max_iter:\n",
    "            print('Iterations Completed')\n",
    "            converged = True\n",
    "\n",
    "    return (iteration, np.array(weights))\n",
    "            "
   ]
  },
  {
   "cell_type": "code",
   "execution_count": 125,
   "metadata": {
    "scrolled": true
   },
   "outputs": [],
   "source": [
    "house_data = pd.read_csv('Related Datasets/kc_house_data.csv')\n",
    "house_test_data = pd.read_csv('Related Datasets/kc_house_test_data.csv')\n",
    "house_train_data = pd.read_csv('Related Datasets/kc_house_train_data.csv')"
   ]
  },
  {
   "cell_type": "code",
   "execution_count": 126,
   "metadata": {},
   "outputs": [],
   "source": [
    "df = house_train_data[['sqft_living','bedrooms','price']]"
   ]
  },
  {
   "cell_type": "code",
   "execution_count": 127,
   "metadata": {},
   "outputs": [],
   "source": [
    "mean_ = np.mean(df['sqft_living'])\n",
    "std_ = np.std(df['sqft_living'])\n",
    "m = 3\n",
    "df = df[abs(df['sqft_living'] - mean_ ) < (m*std_)]"
   ]
  },
  {
   "cell_type": "code",
   "execution_count": 128,
   "metadata": {},
   "outputs": [],
   "source": [
    "data = np.array(df[['sqft_living','bedrooms']])\n",
    "data = data[:1000,:]\n",
    "target = np.array(df[['price']])\n",
    "target = target[:1000,:]"
   ]
  },
  {
   "cell_type": "code",
   "execution_count": 129,
   "metadata": {},
   "outputs": [],
   "source": [
    "data_normalized = normalize(data)"
   ]
  },
  {
   "cell_type": "code",
   "execution_count": 130,
   "metadata": {},
   "outputs": [
    {
     "name": "stdout",
     "output_type": "stream",
     "text": [
      "Iterations Completed\n"
     ]
    }
   ],
   "source": [
    "start_time = time.time()\n",
    "i,weights = coordinate_descent(x=data_normalized[0], y=target,tolerance_step=1,\n",
    "                                max_iter=10000,l1_regularization=1e7)\n",
    "end_time = time.time()"
   ]
  },
  {
   "cell_type": "code",
   "execution_count": 131,
   "metadata": {},
   "outputs": [
    {
     "name": "stdout",
     "output_type": "stream",
     "text": [
      "Time taken:  57.44074034690857\n",
      "Iterations:  10000\n",
      "Calculated weights:\n",
      " [[-5.0769737853e+11]\n",
      " [ 2.9660045123e-01]\n",
      " [ 9.0719081209e-01]]\n"
     ]
    }
   ],
   "source": [
    "print('Time taken: ',end_time-start_time)\n",
    "print('Iterations: ',i)\n",
    "np.set_printoptions(precision=10)\n",
    "print('Calculated weights:\\n',weights)"
   ]
  },
  {
   "cell_type": "code",
   "execution_count": 132,
   "metadata": {},
   "outputs": [],
   "source": [
    "result = abs(weights[0]) + weights[1]*data_normalized[0][:,0] + weights[2]*data_normalized[0][:,1]\n",
    "# type(result)\n",
    "# print(result,\"\")"
   ]
  },
  {
   "cell_type": "code",
   "execution_count": 133,
   "metadata": {
    "scrolled": true
   },
   "outputs": [
    {
     "data": {
      "text/plain": [
       "<matplotlib.axes._subplots.AxesSubplot at 0x7f36eda07240>"
      ]
     },
     "execution_count": 133,
     "metadata": {},
     "output_type": "execute_result"
    },
    {
     "data": {
      "image/png": "[encoded data removed]",
      "text/plain": [
       "<Figure size 432x288 with 1 Axes>"
      ]
     },
     "metadata": {
      "needs_background": "light"
     },
     "output_type": "display_data"
    }
   ],
   "source": [
    "sns.scatterplot(x=data_normalized[0][:,0],y=target.reshape(1000),color='g')"
   ]
  },
  {
   "cell_type": "code",
   "execution_count": 134,
   "metadata": {},
   "outputs": [
    {
     "data": {
      "text/plain": [
       "<matplotlib.axes._subplots.AxesSubplot at 0x7f36ed987b70>"
      ]
     },
     "execution_count": 134,
     "metadata": {},
     "output_type": "execute_result"
    },
    {
     "data": {
      "image/png": "[encoded data removed]",
      "text/plain": [
       "<Figure size 432x288 with 1 Axes>"
      ]
     },
     "metadata": {
      "needs_background": "light"
     },
     "output_type": "display_data"
    }
   ],
   "source": [
    "plt.ticklabel_format(useOffset=False)\n",
    "sns.scatterplot(x=data_normalized[0][:,0],y=result,color='b')"
   ]
  },
  {
   "cell_type": "code",
   "execution_count": 135,
   "metadata": {},
   "outputs": [
    {
     "data": {
      "text/plain": [
       "<matplotlib.axes._subplots.AxesSubplot at 0x7f36ed8dc128>"
      ]
     },
     "execution_count": 135,
     "metadata": {},
     "output_type": "execute_result"
    },
    {
     "data": {
      "image/png": "[encoded data removed]",
      "text/plain": [
       "<Figure size 432x288 with 1 Axes>"
      ]
     },
     "metadata": {
      "needs_background": "light"
     },
     "output_type": "display_data"
    }
   ],
   "source": [
    "plt.ticklabel_format(useOffset=False)\n",
    "sns.scatterplot(x=data_normalized[0][:,0],y=target.reshape(1000),color='g')\n",
    "sns.scatterplot(x=data_normalized[0][:,0],y=result,color='b')"
   ]
  },
  {
   "cell_type": "code",
   "execution_count": null,
   "metadata": {},
   "outputs": [],
   "source": []
  },
  {
   "cell_type": "code",
   "execution_count": null,
   "metadata": {},
   "outputs": [],
   "source": []
  },
  {
   "cell_type": "code",
   "execution_count": null,
   "metadata": {},
   "outputs": [],
   "source": []
  },
  {
   "cell_type": "code",
   "execution_count": null,
   "metadata": {},
   "outputs": [],
   "source": []
  },
  {
   "cell_type": "code",
   "execution_count": null,
   "metadata": {},
   "outputs": [],
   "source": []
  },
  {
   "cell_type": "code",
   "execution_count": null,
   "metadata": {},
   "outputs": [],
   "source": []
  },
  {
   "cell_type": "code",
   "execution_count": null,
   "metadata": {},
   "outputs": [],
   "source": []
  },
  {
   "cell_type": "code",
   "execution_count": 19,
   "metadata": {},
   "outputs": [],
   "source": [
    "# #saving for later insertion\n",
    "#             feature_j = feature_matrix[:,j]\n",
    "#             weight_j = weights[j]\n",
    "            \n",
    "#             #deleting from matrix for performing operation on matrix\n",
    "#             feature_matrix = np.delete(feature_matrix,j,1)\n",
    "#             weights = np.delete(weights,j,0)\n",
    "            \n",
    "#             #performing operations\n",
    "#             predicted = predict_values(feature_matrix=feature_matrix, weights=weights)\n",
    "            \n",
    "#             #Inserting values back in matrices\n",
    "#             feature_matrix = np.insert(feature_matrix,j,feature_j,1)\n",
    "#             weights = np.insert(weights,j,weight_j,0)\n",
    "            \n",
    "#             #calculating errors\n",
    "#             errors = np.subtract(predicted, y)\n",
    "            \n",
    "#             roo_j = np.dot(feature_matrix.T,errors)\n",
    "#             weights[j] = roo_j"
   ]
  },
  {
   "cell_type": "code",
   "execution_count": 20,
   "metadata": {},
   "outputs": [],
   "source": [
    "# data_types = dtype_dict = {'bathrooms':float, 'waterfront':int, \n",
    "#                            'sqft_above':int, 'sqft_living15':float, \n",
    "#                            'grade':int, 'yr_renovated':int, 'price':float, \n",
    "#                            'bedrooms':float, 'zipcode':str, 'long':float, \n",
    "#                            'sqft_lot15':float, 'sqft_living':float, \n",
    "#                            'floors':str, 'condition':int, 'lat':float, \n",
    "#                            'date':str, 'sqft_basement':int, 'yr_built':int, \n",
    "#                            'id':str, 'sqft_lot':int, 'view':int}\n",
    "# data= pd.read_csv('Related Datasets/kc_house_train_data.csv',dtype=data_types)"
   ]
  },
  {
   "cell_type": "code",
   "execution_count": null,
   "metadata": {},
   "outputs": [],
   "source": []
  }
 ],
 "metadata": {
  "kernelspec": {
   "display_name": "Python 3",
   "language": "python",
   "name": "python3"
  },
  "language_info": {
   "codemirror_mode": {
    "name": "ipython",
    "version": 3
   },
   "file_extension": ".py",
   "mimetype": "text/x-python",
   "name": "python",
   "nbconvert_exporter": "python",
   "pygments_lexer": "ipython3",
   "version": "3.6.6"
  }
 },
 "nbformat": 4,
 "nbformat_minor": 2
}
