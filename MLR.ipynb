{
 "cells": [
  {
   "cell_type": "code",
   "execution_count": 44,
   "metadata": {},
   "outputs": [],
   "source": [
    "import seaborn as sns\n",
    "import numpy as np\n",
    "import math\n",
    "import matplotlib.pyplot as plt\n",
    "import pandas as pd\n",
    "from sklearn import datasets\n",
    "import seaborn as sns"
   ]
  },
  {
   "cell_type": "code",
   "execution_count": 63,
   "metadata": {},
   "outputs": [],
   "source": [
    "boston = datasets.load_boston()\n",
    "data = np.array(boston.data)\n",
    "target = np.array(boston.target)#.reshape((len(boston.target),1))"
   ]
  },
  {
   "cell_type": "code",
   "execution_count": null,
   "metadata": {},
   "outputs": [],
   "source": []
  },
  {
   "cell_type": "code",
   "execution_count": 37,
   "metadata": {},
   "outputs": [],
   "source": [
    "def setting_data(data=None):#,target=None):\n",
    "    feature_matrix = np.zeros((np.ma.size(data,axis=0),np.ma.size(data,axis=1)+1))\n",
    "    feature_matrix[:,1:] = data\n",
    "    return feature_matrix"
   ]
  },
  {
   "cell_type": "code",
   "execution_count": 6,
   "metadata": {},
   "outputs": [],
   "source": [
    "def predict_values(feature_matrix=None, weights=None):\n",
    "    return np.dot(a=feature_matrix,b=weights)"
   ]
  },
  {
   "cell_type": "code",
   "execution_count": 7,
   "metadata": {},
   "outputs": [],
   "source": [
    "def feature_derivative(feature=None, errors=None):\n",
    "    return 2*np.dot(feature,errors)"
   ]
  },
  {
   "cell_type": "code",
   "execution_count": 61,
   "metadata": {},
   "outputs": [],
   "source": [
    "def gradient_descent(data=None, features=None ,target=None,tolerance_gradient=0.01, tolerance_cost=0.0000001, step_size = 0.001):\n",
    "    feature_matrix = setting_data(data=data)#, target=target)\n",
    "    weights = np.zeros(np.ma.size(data,axis=1)+1)\n",
    "    partials = np.zeros(np.ma.size(data,axis=1)+1)\n",
    "    \n",
    "    i = 1\n",
    "    \n",
    "    converged = False\n",
    "    while not converged:\n",
    "        predicted = predict_values(feature_matrix=feature_matrix, weights=weights)\n",
    "        errors = np.subtract(predicted, target)\n",
    "        \n",
    "        #Updating weights\n",
    "        \n",
    "        #taking derivative\n",
    "        partials = 2* np.dot(feature_matrix.T,errors)\n",
    "        weights = np.subtract(weights,np.multiply(step_size,partials))\n",
    "        gradient_magnitude = np.sqrt(np.sum(np.square(partials)))\n",
    "        if gradient_magnitude <= tolerance_gradient:\n",
    "            converged = True\n",
    "        i += 1\n",
    "    return (weights,i)\n",
    "        \n",
    "        \n",
    "#         for i in range(len(weights)):\n",
    "            \n",
    "#             partials[i] = feature_derivative(feature_matrix[:,i],errors)\n",
    "#             weights[i] -= step_size*partials[i]\n",
    "# #             print('partial[{}]: {}'.format(i,partials[i]))\n",
    "#             gradient_sum_squares += partials[i]\n",
    "    "
   ]
  },
  {
   "cell_type": "code",
   "execution_count": null,
   "metadata": {},
   "outputs": [],
   "source": [
    "%timeit weights = gradient_descent(data=data, features=boston.feature_names, target=target,step_size=0.000000000000007,tolerance_gradient=250000)\n",
    "weights"
   ]
  },
  {
   "cell_type": "code",
   "execution_count": null,
   "metadata": {},
   "outputs": [],
   "source": [
    "step_size=0.0000000000007\n",
    "0.00000000e+00, -1.42462149e-03,  6.81218031e-03, -5.17383147e-04,\n",
    "         3.56348090e-05,  5.04340686e-05,  1.22751024e-03,  3.29581664e-03,\n",
    "         8.89066974e-04, -8.27137513e-04,  5.29959843e-03,  1.97805732e-03,\n",
    "         5.37466626e-02, -1.30325812e-03]), 947256)\n",
    "            \n"
   ]
  },
  {
   "cell_type": "code",
   "execution_count": 68,
   "metadata": {},
   "outputs": [
    {
     "name": "stdout",
     "output_type": "stream",
     "text": [
      "11.4 ms ± 835 µs per loop (mean ± std. dev. of 7 runs, 100 loops each)\n"
     ]
    },
    {
     "data": {
      "image/png": "[encoded data removed]",
      "text/plain": [
       "<Figure size 432x288 with 1 Axes>"
      ]
     },
     "metadata": {},
     "output_type": "display_data"
    }
   ],
   "source": [
    "#data[:,0]\n",
    "%timeit sns.scatterplot(x=data[:,5],y=target)\n",
    "#sns.scatterplot(x=,y=)"
   ]
  },
  {
   "cell_type": "code",
   "execution_count": 31,
   "metadata": {
    "scrolled": false
   },
   "outputs": [
    {
     "name": "stdout",
     "output_type": "stream",
     "text": [
      "[ 0.00000000e+00 -5.11382073e+04 -3.37215600e+05 -2.23128160e+05\n",
      " -1.99080000e+03 -1.21888558e+04 -1.47848155e+05 -1.46516228e+06\n",
      " -9.14277483e+04 -1.86890200e+05 -8.57559520e+06 -4.10633460e+05\n",
      " -8.41609901e+06 -2.39598318e+05]\n",
      "[0.00000000e+00 3.57967451e-07 2.36050920e-06 1.56189712e-06\n",
      " 1.39356000e-08 8.53219907e-08 1.03493709e-06 1.02561360e-05\n",
      " 6.39994238e-07 1.30823140e-06 6.00291664e-05 2.87443422e-06\n",
      " 5.89126931e-05 1.67718823e-06]\n"
     ]
    },
    {
     "data": {
      "text/plain": [
       "-20158915.994698"
      ]
     },
     "execution_count": 31,
     "metadata": {},
     "output_type": "execute_result"
    }
   ],
   "source": [
    "step_size = 0.000000000007\n",
    "weights = np.zeros(np.ma.size(data,axis=1)+1)\n",
    "partials = np.zeros(np.ma.size(data,axis=1)+1)\n",
    "feature_matrix = np.zeros((np.ma.size(data,axis=0),np.ma.size(data,axis=1)+1))\n",
    "feature_matrix[:,1:] = data\n",
    "predicted = predict_values(feature_matrix=feature_matrix, weights=weights)\n",
    "# print(predicted)\n",
    "errors = np.subtract(predicted, target)\n",
    "# print(errors)\n",
    "partials = 2* np.dot(feature_matrix.T,errors)\n",
    "print(partials)\n",
    "weights = np.subtract(weights,np.multiply(step_size,partials))\n",
    "print(weights)\n",
    "gradient_sum_squares = np.sum(partials)\n",
    "gradient_sum_squares"
   ]
  },
  {
   "cell_type": "code",
   "execution_count": 9,
   "metadata": {},
   "outputs": [
    {
     "data": {
      "text/plain": [
       "(506,)"
      ]
     },
     "execution_count": 9,
     "metadata": {},
     "output_type": "execute_result"
    }
   ],
   "source": [
    "([ 0.00000000e+00, -3.57967451e-07, -2.36050920e-06, -1.56189712e-06,\n",
    "       -1.39356000e-08, -8.53219907e-08, -1.03493709e-06, -1.02561360e-05,\n",
    "       -6.39994238e-07, -1.30823140e-06, -6.00291664e-05, -2.87443422e-06,\n",
    "       -5.89126931e-05, -1.67718823e-06])"
   ]
  },
  {
   "cell_type": "code",
   "execution_count": 10,
   "metadata": {},
   "outputs": [
    {
     "ename": "NameError",
     "evalue": "name 'predicted' is not defined",
     "output_type": "error",
     "traceback": [
      "\u001b[0;31m---------------------------------------------------------------------------\u001b[0m",
      "\u001b[0;31mNameError\u001b[0m                                 Traceback (most recent call last)",
      "\u001b[0;32m<ipython-input-10-b5aaa8bb16df>\u001b[0m in \u001b[0;36m<module>\u001b[0;34m()\u001b[0m\n\u001b[0;32m----> 1\u001b[0;31m \u001b[0mpredicted\u001b[0m\u001b[0;34m\u001b[0m\u001b[0m\n\u001b[0m",
      "\u001b[0;31mNameError\u001b[0m: name 'predicted' is not defined"
     ]
    }
   ],
   "source": [
    "predicted"
   ]
  },
  {
   "cell_type": "code",
   "execution_count": null,
   "metadata": {},
   "outputs": [],
   "source": [
    "target"
   ]
  },
  {
   "cell_type": "code",
   "execution_count": null,
   "metadata": {},
   "outputs": [],
   "source": []
  },
  {
   "cell_type": "code",
   "execution_count": null,
   "metadata": {},
   "outputs": [],
   "source": []
  }
 ],
 "metadata": {
  "kernelspec": {
   "display_name": "Python 3",
   "language": "python",
   "name": "python3"
  },
  "language_info": {
   "codemirror_mode": {
    "name": "ipython",
    "version": 3
   },
   "file_extension": ".py",
   "mimetype": "text/x-python",
   "name": "python",
   "nbconvert_exporter": "python",
   "pygments_lexer": "ipython3",
   "version": "3.5.2"
  }
 },
 "nbformat": 4,
 "nbformat_minor": 2
}
