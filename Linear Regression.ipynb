{
 "cells": [
  {
   "cell_type": "code",
   "execution_count": 38,
   "metadata": {},
   "outputs": [],
   "source": [
    "import seaborn as sns\n",
    "import numpy as np\n",
    "import math"
   ]
  },
  {
   "cell_type": "markdown",
   "metadata": {},
   "source": [
    "RSS (Residual Sum of Squares) - Cost Function"
   ]
  },
  {
   "cell_type": "code",
   "execution_count": 74,
   "metadata": {},
   "outputs": [],
   "source": [
    "def RSS(x=None, y=None, weight_0=0.0, weight_1=0.0):\n",
    "    \"\"\"Calculates and returns the Residual Square Sum for univarient Linear Regression\n",
    "\n",
    "    x = the independent variable column, could be a list, numpy array\n",
    "    y = the dependent variable column, could be a list, numpy array\n",
    "    weight_0 = First weight / Y Intercept\n",
    "    weight_1 = Second weight / Slope\n",
    "    \n",
    "    Warning(s):\n",
    "    x and y lengths should be same or it will return the answer over the iterations of the smallest among two because zip function is used\"\"\"\n",
    "    return np.sum(((y-(weight_0 + weight_1*x))**2 for x,y in zip(x,y)))"
   ]
  },
  {
   "cell_type": "code",
   "execution_count": 81,
   "metadata": {},
   "outputs": [],
   "source": [
    "def RSS_NP(x=None, y=None, weight_0=0.0, weight_1=0.0):\n",
    "    return np.sum(np.subtract(y, np.sum( weight_0, np.multiply(weight_1,x) ) )**2)\n",
    "def RSS_1(y=None,predicted_y=None):\n",
    "    return sum((np.subtract(y,predicted_y))**2)\n",
    "def RSS_2(errors=None):\n",
    "    return np.sum(errors**2)"
   ]
  },
  {
   "cell_type": "code",
   "execution_count": 79,
   "metadata": {},
   "outputs": [],
   "source": [
    "def gradient_descent(x=None, y=None, slope=0, intercept=0, step_size=0.00001,tolerance_gradient=0.01, tolerance_cost=0.00001):\n",
    "    \"\"\"Calculates\"\"\"\n",
    "    i = 0\n",
    "    cost_prev = 1000000\n",
    "    while(True):\n",
    "        i += 1\n",
    "        predicted_values = np.add(intercept,np.multiply(slope,x))\n",
    "        errors = np.subtract(predicted_values,y)\n",
    "        \n",
    "        intercept_grad = np.sum(errors)\n",
    "        intercept -= step_size*intercept_grad\n",
    "        \n",
    "        slope_grad = np.sum(np.multiply(errors,x))\n",
    "        slope -= step_size*slope_grad\n",
    "        \n",
    "        magnitude = np.sqrt( np.sum(errors)**2 + np.sum( np.multiply(errors,x) )**2 )\n",
    "       \n",
    "        cost = RSS(x,y,intercept,slope)\n",
    "        print('RSS: ',cost)\n",
    "        print('RSS_NP: ',RSS_NP(x,y,intercept,slope))\n",
    "        print('RSS_1: ',RSS_1(y=y,predicted_y=predicted_values))\n",
    "        print('RSS_2: ',RSS_2(errors=errors))\n",
    "        \n",
    "        print('i = %3d | Inter_Grad: %2.2f | Intrcpt: %2.2f |  S_Grad: %2.2f  | Slope: %2.2f | Magnitude: %2.2f | RSS: %2.2f' % (i,intercept_grad, intercept,slope_grad,slope,magnitude,RSS(x,y,intercept,slope)))\n",
    "        \n",
    "        if(abs(cost - cost_prev) < tolerance_cost):\n",
    "            return {'intercept':intercept,'slope':slope,'iterations':i,'reason':'cost tolerance satisfied'}\n",
    "            \n",
    "        if magnitude <= tolerance_gradient:\n",
    "            return {'intercept':intercept,'slope':slope,'iterations':i,'reason':'gradient tolerance satisfied'}\n",
    "        \n",
    "        cost_prev = cost"
   ]
  },
  {
   "cell_type": "code",
   "execution_count": 83,
   "metadata": {},
   "outputs": [
    {
     "name": "stdout",
     "output_type": "stream",
     "text": [
      "RSS:  601966.2050596414\n"
     ]
    },
    {
     "name": "stderr",
     "output_type": "stream",
     "text": [
      "/home/nauman/.local/lib/python3.5/site-packages/ipykernel_launcher.py:11: DeprecationWarning: Calling np.sum(generator) is deprecated, and in the future will give a different result. Use np.sum(np.from_iter(generator)) or the python sum builtin instead.\n",
      "  # This is added back by InteractiveShellApp.init_path()\n"
     ]
    },
    {
     "ename": "TypeError",
     "evalue": "only integer scalar arrays can be converted to a scalar index",
     "output_type": "error",
     "traceback": [
      "\u001b[0;31m---------------------------------------------------------------------------\u001b[0m",
      "\u001b[0;31mTypeError\u001b[0m                                 Traceback (most recent call last)",
      "\u001b[0;32m<ipython-input-83-e54d4aea1915>\u001b[0m in \u001b[0;36m<module>\u001b[0;34m()\u001b[0m\n\u001b[1;32m      2\u001b[0m \u001b[0my\u001b[0m \u001b[0;34m=\u001b[0m \u001b[0mx\u001b[0m \u001b[0;34m+\u001b[0m \u001b[0;36m2\u001b[0m \u001b[0;34m*\u001b[0m \u001b[0mnp\u001b[0m\u001b[0;34m.\u001b[0m\u001b[0mrandom\u001b[0m\u001b[0;34m.\u001b[0m\u001b[0mrandn\u001b[0m\u001b[0;34m(\u001b[0m\u001b[0;34m*\u001b[0m\u001b[0mx\u001b[0m\u001b[0;34m.\u001b[0m\u001b[0mshape\u001b[0m\u001b[0;34m)\u001b[0m\u001b[0;34m\u001b[0m\u001b[0m\n\u001b[1;32m      3\u001b[0m \u001b[0;31m#sns.scatterplot(x,y)\u001b[0m\u001b[0;34m\u001b[0m\u001b[0;34m\u001b[0m\u001b[0m\n\u001b[0;32m----> 4\u001b[0;31m \u001b[0mresult\u001b[0m \u001b[0;34m=\u001b[0m \u001b[0mgradient_descent\u001b[0m\u001b[0;34m(\u001b[0m\u001b[0mx\u001b[0m\u001b[0;34m=\u001b[0m\u001b[0ma\u001b[0m\u001b[0;34m,\u001b[0m\u001b[0my\u001b[0m\u001b[0;34m=\u001b[0m\u001b[0mb_noise\u001b[0m\u001b[0;34m,\u001b[0m\u001b[0mstep_size\u001b[0m\u001b[0;34m=\u001b[0m\u001b[0;36m0.000001\u001b[0m\u001b[0;34m,\u001b[0m\u001b[0mtolerance_gradient\u001b[0m\u001b[0;34m=\u001b[0m\u001b[0;36m0.01\u001b[0m\u001b[0;34m,\u001b[0m \u001b[0mtolerance_cost\u001b[0m \u001b[0;34m=\u001b[0m \u001b[0;36m0.0001\u001b[0m\u001b[0;34m)\u001b[0m\u001b[0;34m\u001b[0m\u001b[0m\n\u001b[0m\u001b[1;32m      5\u001b[0m \u001b[0mprint\u001b[0m\u001b[0;34m(\u001b[0m\u001b[0;34m'Completed'\u001b[0m\u001b[0;34m)\u001b[0m\u001b[0;34m\u001b[0m\u001b[0m\n",
      "\u001b[0;32m<ipython-input-79-b5aa5ed6f261>\u001b[0m in \u001b[0;36mgradient_descent\u001b[0;34m(x, y, slope, intercept, step_size, tolerance_gradient, tolerance_cost)\u001b[0m\n\u001b[1;32m     18\u001b[0m         \u001b[0mcost\u001b[0m \u001b[0;34m=\u001b[0m \u001b[0mRSS\u001b[0m\u001b[0;34m(\u001b[0m\u001b[0mx\u001b[0m\u001b[0;34m,\u001b[0m\u001b[0my\u001b[0m\u001b[0;34m,\u001b[0m\u001b[0mintercept\u001b[0m\u001b[0;34m,\u001b[0m\u001b[0mslope\u001b[0m\u001b[0;34m)\u001b[0m\u001b[0;34m\u001b[0m\u001b[0m\n\u001b[1;32m     19\u001b[0m         \u001b[0mprint\u001b[0m\u001b[0;34m(\u001b[0m\u001b[0;34m'RSS: '\u001b[0m\u001b[0;34m,\u001b[0m\u001b[0mcost\u001b[0m\u001b[0;34m)\u001b[0m\u001b[0;34m\u001b[0m\u001b[0m\n\u001b[0;32m---> 20\u001b[0;31m         \u001b[0mprint\u001b[0m\u001b[0;34m(\u001b[0m\u001b[0;34m'RSS_NP: '\u001b[0m\u001b[0;34m,\u001b[0m\u001b[0mRSS_NP\u001b[0m\u001b[0;34m(\u001b[0m\u001b[0mx\u001b[0m\u001b[0;34m,\u001b[0m\u001b[0my\u001b[0m\u001b[0;34m,\u001b[0m\u001b[0mintercept\u001b[0m\u001b[0;34m,\u001b[0m\u001b[0mslope\u001b[0m\u001b[0;34m)\u001b[0m\u001b[0;34m)\u001b[0m\u001b[0;34m\u001b[0m\u001b[0m\n\u001b[0m\u001b[1;32m     21\u001b[0m         \u001b[0mprint\u001b[0m\u001b[0;34m(\u001b[0m\u001b[0;34m'RSS_1: '\u001b[0m\u001b[0;34m,\u001b[0m\u001b[0mRSS_1\u001b[0m\u001b[0;34m(\u001b[0m\u001b[0my\u001b[0m\u001b[0;34m=\u001b[0m\u001b[0my\u001b[0m\u001b[0;34m,\u001b[0m\u001b[0mpredicted_y\u001b[0m\u001b[0;34m=\u001b[0m\u001b[0mpredicted_values\u001b[0m\u001b[0;34m)\u001b[0m\u001b[0;34m)\u001b[0m\u001b[0;34m\u001b[0m\u001b[0m\n\u001b[1;32m     22\u001b[0m         \u001b[0mprint\u001b[0m\u001b[0;34m(\u001b[0m\u001b[0;34m'RSS_2: '\u001b[0m\u001b[0;34m,\u001b[0m\u001b[0mRSS_2\u001b[0m\u001b[0;34m(\u001b[0m\u001b[0merrors\u001b[0m\u001b[0;34m=\u001b[0m\u001b[0merrors\u001b[0m\u001b[0;34m)\u001b[0m\u001b[0;34m)\u001b[0m\u001b[0;34m\u001b[0m\u001b[0m\n",
      "\u001b[0;32m<ipython-input-81-0d356ea28471>\u001b[0m in \u001b[0;36mRSS_NP\u001b[0;34m(x, y, weight_0, weight_1)\u001b[0m\n\u001b[1;32m      1\u001b[0m \u001b[0;32mdef\u001b[0m \u001b[0mRSS_NP\u001b[0m\u001b[0;34m(\u001b[0m\u001b[0mx\u001b[0m\u001b[0;34m=\u001b[0m\u001b[0;32mNone\u001b[0m\u001b[0;34m,\u001b[0m \u001b[0my\u001b[0m\u001b[0;34m=\u001b[0m\u001b[0;32mNone\u001b[0m\u001b[0;34m,\u001b[0m \u001b[0mweight_0\u001b[0m\u001b[0;34m=\u001b[0m\u001b[0;36m0.0\u001b[0m\u001b[0;34m,\u001b[0m \u001b[0mweight_1\u001b[0m\u001b[0;34m=\u001b[0m\u001b[0;36m0.0\u001b[0m\u001b[0;34m)\u001b[0m\u001b[0;34m:\u001b[0m\u001b[0;34m\u001b[0m\u001b[0m\n\u001b[0;32m----> 2\u001b[0;31m     \u001b[0;32mreturn\u001b[0m \u001b[0mnp\u001b[0m\u001b[0;34m.\u001b[0m\u001b[0msum\u001b[0m\u001b[0;34m(\u001b[0m\u001b[0mnp\u001b[0m\u001b[0;34m.\u001b[0m\u001b[0msubtract\u001b[0m\u001b[0;34m(\u001b[0m\u001b[0my\u001b[0m\u001b[0;34m,\u001b[0m \u001b[0mnp\u001b[0m\u001b[0;34m.\u001b[0m\u001b[0msum\u001b[0m\u001b[0;34m(\u001b[0m \u001b[0mweight_0\u001b[0m\u001b[0;34m,\u001b[0m \u001b[0mnp\u001b[0m\u001b[0;34m.\u001b[0m\u001b[0mmultiply\u001b[0m\u001b[0;34m(\u001b[0m\u001b[0mweight_1\u001b[0m\u001b[0;34m,\u001b[0m\u001b[0mx\u001b[0m\u001b[0;34m)\u001b[0m \u001b[0;34m)\u001b[0m \u001b[0;34m)\u001b[0m\u001b[0;34m**\u001b[0m\u001b[0;36m2\u001b[0m\u001b[0;34m)\u001b[0m\u001b[0;34m\u001b[0m\u001b[0m\n\u001b[0m\u001b[1;32m      3\u001b[0m \u001b[0;32mdef\u001b[0m \u001b[0mRSS_1\u001b[0m\u001b[0;34m(\u001b[0m\u001b[0my\u001b[0m\u001b[0;34m=\u001b[0m\u001b[0;32mNone\u001b[0m\u001b[0;34m,\u001b[0m\u001b[0mpredicted_y\u001b[0m\u001b[0;34m=\u001b[0m\u001b[0;32mNone\u001b[0m\u001b[0;34m)\u001b[0m\u001b[0;34m:\u001b[0m\u001b[0;34m\u001b[0m\u001b[0m\n\u001b[1;32m      4\u001b[0m     \u001b[0;32mreturn\u001b[0m \u001b[0msum\u001b[0m\u001b[0;34m(\u001b[0m\u001b[0;34m(\u001b[0m\u001b[0mnp\u001b[0m\u001b[0;34m.\u001b[0m\u001b[0msubtract\u001b[0m\u001b[0;34m(\u001b[0m\u001b[0my\u001b[0m\u001b[0;34m,\u001b[0m\u001b[0mpredicted_y\u001b[0m\u001b[0;34m)\u001b[0m\u001b[0;34m)\u001b[0m\u001b[0;34m**\u001b[0m\u001b[0;36m2\u001b[0m\u001b[0;34m)\u001b[0m\u001b[0;34m\u001b[0m\u001b[0m\n\u001b[1;32m      5\u001b[0m \u001b[0;32mdef\u001b[0m \u001b[0mRSS_2\u001b[0m\u001b[0;34m(\u001b[0m\u001b[0merrors\u001b[0m\u001b[0;34m=\u001b[0m\u001b[0;32mNone\u001b[0m\u001b[0;34m)\u001b[0m\u001b[0;34m:\u001b[0m\u001b[0;34m\u001b[0m\u001b[0m\n",
      "\u001b[0;32m~/.local/lib/python3.5/site-packages/numpy/core/fromnumeric.py\u001b[0m in \u001b[0;36msum\u001b[0;34m(a, axis, dtype, out, keepdims, initial)\u001b[0m\n\u001b[1;32m   1928\u001b[0m \u001b[0;34m\u001b[0m\u001b[0m\n\u001b[1;32m   1929\u001b[0m     return _wrapreduction(a, np.add, 'sum', axis, dtype, out, keepdims=keepdims,\n\u001b[0;32m-> 1930\u001b[0;31m                           initial=initial)\n\u001b[0m\u001b[1;32m   1931\u001b[0m \u001b[0;34m\u001b[0m\u001b[0m\n\u001b[1;32m   1932\u001b[0m \u001b[0;34m\u001b[0m\u001b[0m\n",
      "\u001b[0;32m~/.local/lib/python3.5/site-packages/numpy/core/fromnumeric.py\u001b[0m in \u001b[0;36m_wrapreduction\u001b[0;34m(obj, ufunc, method, axis, dtype, out, **kwargs)\u001b[0m\n\u001b[1;32m     79\u001b[0m                 \u001b[0;32mreturn\u001b[0m \u001b[0mreduction\u001b[0m\u001b[0;34m(\u001b[0m\u001b[0maxis\u001b[0m\u001b[0;34m=\u001b[0m\u001b[0maxis\u001b[0m\u001b[0;34m,\u001b[0m \u001b[0mdtype\u001b[0m\u001b[0;34m=\u001b[0m\u001b[0mdtype\u001b[0m\u001b[0;34m,\u001b[0m \u001b[0mout\u001b[0m\u001b[0;34m=\u001b[0m\u001b[0mout\u001b[0m\u001b[0;34m,\u001b[0m \u001b[0;34m**\u001b[0m\u001b[0mpasskwargs\u001b[0m\u001b[0;34m)\u001b[0m\u001b[0;34m\u001b[0m\u001b[0m\n\u001b[1;32m     80\u001b[0m             \u001b[0;32melse\u001b[0m\u001b[0;34m:\u001b[0m\u001b[0;34m\u001b[0m\u001b[0m\n\u001b[0;32m---> 81\u001b[0;31m                 \u001b[0;32mreturn\u001b[0m \u001b[0mreduction\u001b[0m\u001b[0;34m(\u001b[0m\u001b[0maxis\u001b[0m\u001b[0;34m=\u001b[0m\u001b[0maxis\u001b[0m\u001b[0;34m,\u001b[0m \u001b[0mout\u001b[0m\u001b[0;34m=\u001b[0m\u001b[0mout\u001b[0m\u001b[0;34m,\u001b[0m \u001b[0;34m**\u001b[0m\u001b[0mpasskwargs\u001b[0m\u001b[0;34m)\u001b[0m\u001b[0;34m\u001b[0m\u001b[0m\n\u001b[0m\u001b[1;32m     82\u001b[0m \u001b[0;34m\u001b[0m\u001b[0m\n\u001b[1;32m     83\u001b[0m     \u001b[0;32mreturn\u001b[0m \u001b[0mufunc\u001b[0m\u001b[0;34m.\u001b[0m\u001b[0mreduce\u001b[0m\u001b[0;34m(\u001b[0m\u001b[0mobj\u001b[0m\u001b[0;34m,\u001b[0m \u001b[0maxis\u001b[0m\u001b[0;34m,\u001b[0m \u001b[0mdtype\u001b[0m\u001b[0;34m,\u001b[0m \u001b[0mout\u001b[0m\u001b[0;34m,\u001b[0m \u001b[0;34m**\u001b[0m\u001b[0mpasskwargs\u001b[0m\u001b[0;34m)\u001b[0m\u001b[0;34m\u001b[0m\u001b[0m\n",
      "\u001b[0;32m~/.local/lib/python3.5/site-packages/numpy/core/_methods.py\u001b[0m in \u001b[0;36m_sum\u001b[0;34m(a, axis, dtype, out, keepdims, initial)\u001b[0m\n\u001b[1;32m     34\u001b[0m def _sum(a, axis=None, dtype=None, out=None, keepdims=False,\n\u001b[1;32m     35\u001b[0m          initial=_NoValue):\n\u001b[0;32m---> 36\u001b[0;31m     \u001b[0;32mreturn\u001b[0m \u001b[0mumr_sum\u001b[0m\u001b[0;34m(\u001b[0m\u001b[0ma\u001b[0m\u001b[0;34m,\u001b[0m \u001b[0maxis\u001b[0m\u001b[0;34m,\u001b[0m \u001b[0mdtype\u001b[0m\u001b[0;34m,\u001b[0m \u001b[0mout\u001b[0m\u001b[0;34m,\u001b[0m \u001b[0mkeepdims\u001b[0m\u001b[0;34m,\u001b[0m \u001b[0minitial\u001b[0m\u001b[0;34m)\u001b[0m\u001b[0;34m\u001b[0m\u001b[0m\n\u001b[0m\u001b[1;32m     37\u001b[0m \u001b[0;34m\u001b[0m\u001b[0m\n\u001b[1;32m     38\u001b[0m def _prod(a, axis=None, dtype=None, out=None, keepdims=False,\n",
      "\u001b[0;31mTypeError\u001b[0m: only integer scalar arrays can be converted to a scalar index"
     ]
    }
   ],
   "source": [
    "x = np.array(range(1, 100, 5))\n",
    "y = x + 2 * np.random.randn(*x.shape)\n",
    "#sns.scatterplot(x,y)\n",
    "result = gradient_descent(x=a,y=b_noise,step_size=0.000001,tolerance_gradient=0.01, tolerance_cost = 0.0001)\n",
    "print('Completed')"
   ]
  },
  {
   "cell_type": "code",
   "execution_count": null,
   "metadata": {
    "scrolled": true
   },
   "outputs": [],
   "source": []
  },
  {
   "cell_type": "code",
   "execution_count": 55,
   "metadata": {},
   "outputs": [],
   "source": [
    "def gradient_descent_2(x=None, y=None, slope=0, intercept=0, step_size=0.00001,tol_grad=0.01, tol_cost=0.00001):\n",
    "   \n",
    "    i = 0\n",
    "    cost_prev = 1000000\n",
    "    \n",
    "    while(True):\n",
    "        i += 1\n",
    "        predicted_values = np.add(intercept,np.multiply(slope,x))\n",
    "        #predicted_values = np.array([intercept + (slope*x) for x in x])\n",
    "        errors = np.subtract(predicted_values,y)\n",
    "        \n",
    "        intercept_grad = sum(errors)\n",
    "        intercept -= step_size*intercept_grad\n",
    "        \n",
    "        slope_grad = sum(np.multiply(errors,x))\n",
    "        slope -= step_size*slope_grad\n",
    "        \n",
    "        magnitude = np.sqrt(  sum(errors)**2 + sum(np.multiply(errors,x))**2 )\n",
    "        \n",
    "#         magnitude = np.sqrt(sum(errors)**2 + np.sum(np.multiply(errors,x)**2))\n",
    "#         magnitude = np.sqrt(intercept_grad**2 + slope_grad**2)\n",
    "       \n",
    "        print('i = %3d | Inter_Grad: %2.2f | Intrcpt: %2.2f |  S_Grad: %2.2f  | Slope: %2.2f | Magnitude: %2.2f | RSS: %2.2f' % (i,intercept_grad, intercept,slope_grad,slope,magnitude,RSS(x,y,intercept,slope)))\n",
    "        \n",
    "        cost = RSS(x,y,intercept,slope)\n",
    "        \n",
    "        if(abs(cost - cost_prev) < tol_cost):\n",
    "            print('cost tolerance satisfied')\n",
    "            return {'intercept':intercept,'slope':slope,'iterations':i}\n",
    "            \n",
    "        if magnitude <= tol_grad:\n",
    "            print('gradient tolerance satisfied')\n",
    "            return {'intercept':intercept,'slope':slope,'iterations':i}\n",
    "        \n",
    "        cost_prev = cost\n",
    "        #arb = RSS(x,y,intercept,slope)"
   ]
  },
  {
   "cell_type": "code",
   "execution_count": 60,
   "metadata": {},
   "outputs": [
    {
     "name": "stdout",
     "output_type": "stream",
     "text": [
      "Completed\n"
     ]
    },
    {
     "data": {
      "image/png": "[encoded data removed]",
      "text/plain": [
       "<Figure size 432x288 with 1 Axes>"
      ]
     },
     "metadata": {},
     "output_type": "display_data"
    }
   ],
   "source": [
    "a = np.arange(1,100,1)\n",
    "b = (1) + (2)*a\n",
    "b_noise = b + 2 * np.random.randn(*b.shape)\n",
    "b_noise\n",
    "sns.scatterplot(a,b_noise)\n",
    "result = gradient_descent_2(x=a,y=b_noise,step_size=0.000001,tol_grad=0.01, tol_cost = 0.0001)\n",
    "print('Completed')"
   ]
  },
  {
   "cell_type": "code",
   "execution_count": null,
   "metadata": {},
   "outputs": [],
   "source": [
    "intercept = 0\n",
    "slope = 0\n",
    "\n"
   ]
  },
  {
   "cell_type": "code",
   "execution_count": null,
   "metadata": {},
   "outputs": [],
   "source": [
    "predicted_values = np.add(intercept,np.multiply(slope,x))\n",
    "errors = np.subtract(predicted_values,y)\n",
    "errors"
   ]
  },
  {
   "cell_type": "code",
   "execution_count": null,
   "metadata": {},
   "outputs": [],
   "source": [
    "sum(errors)\n",
    "intercept -= step_size*intercept_grad"
   ]
  },
  {
   "cell_type": "code",
   "execution_count": null,
   "metadata": {},
   "outputs": [],
   "source": [
    "np.sum(errors)"
   ]
  },
  {
   "cell_type": "code",
   "execution_count": null,
   "metadata": {},
   "outputs": [],
   "source": [
    "intercept = 0\n",
    "step_size = 0.05\n",
    "intercept_grad = np.sum(errors)\n",
    "print(intercept_grad)\n",
    "intercept -= step_size*intercept_grad\n",
    "print(intercept)"
   ]
  },
  {
   "cell_type": "code",
   "execution_count": null,
   "metadata": {},
   "outputs": [],
   "source": [
    "intercept = 0\n",
    "step_size = 0.05\n",
    "intercept_grad = sum(errors)\n",
    "print(intercept_grad)\n",
    "intercept -= step_size*intercept_grad\n",
    "print(intercept)"
   ]
  },
  {
   "cell_type": "code",
   "execution_count": null,
   "metadata": {},
   "outputs": [],
   "source": [
    "slope = 0\n",
    "step_size = 0.05\n",
    "slope_grad = np.sum(np.multiply(errors, x))\n",
    "print(slope_grad)\n",
    "slope -= step_size*slope_grad\n",
    "print(slope)"
   ]
  },
  {
   "cell_type": "code",
   "execution_count": null,
   "metadata": {},
   "outputs": [],
   "source": [
    "errors"
   ]
  },
  {
   "cell_type": "code",
   "execution_count": null,
   "metadata": {},
   "outputs": [],
   "source": [
    "slope = 0\n",
    "step_size = 0.05\n",
    "slope_grad = sum(np.multiply(errors, x))\n",
    "print(slope_grad)\n",
    "slope -= step_size*slope_grad\n",
    "print(slope)"
   ]
  },
  {
   "cell_type": "code",
   "execution_count": null,
   "metadata": {},
   "outputs": [],
   "source": [
    "predicted_values = np.add(intercept,np.multiply(slope,x))\n",
    "errors = np.subtract(predicted_values,y)\n",
    "        \n",
    "intercept_grad = np.sum(errors)\n",
    "intercept -= step_size*intercept_grad\n",
    "\n",
    "slope_grad = np.sum(np.multiply(errors,x))\n",
    "slope -= step_size*slope_grad"
   ]
  },
  {
   "cell_type": "code",
   "execution_count": null,
   "metadata": {},
   "outputs": [],
   "source": []
  },
  {
   "cell_type": "code",
   "execution_count": null,
   "metadata": {},
   "outputs": [],
   "source": [
    "result = gradient_descent_2(x=p,y=q,step_size=0.05,tol_grad=0.01, tol_cost = 0.000001)\n",
    "print('Completed')"
   ]
  },
  {
   "cell_type": "code",
   "execution_count": null,
   "metadata": {},
   "outputs": [],
   "source": [
    "y_pred = result['intercept'] + result['slope'] * x"
   ]
  },
  {
   "cell_type": "code",
   "execution_count": null,
   "metadata": {},
   "outputs": [],
   "source": [
    "sns.scatterplot(x, y)\n",
    "sns.scatterplot(x, y_pred)\n"
   ]
  },
  {
   "cell_type": "code",
   "execution_count": null,
   "metadata": {},
   "outputs": [],
   "source": [
    "sns.scatterplot(a, b)"
   ]
  },
  {
   "cell_type": "code",
   "execution_count": null,
   "metadata": {},
   "outputs": [],
   "source": [
    "np.sqrt(4)"
   ]
  },
  {
   "cell_type": "code",
   "execution_count": 17,
   "metadata": {},
   "outputs": [
    {
     "data": {
      "text/plain": [
       "array([ 3.67414023e+00, -9.70894772e-02,  8.70939947e+00,  2.29158200e+01,\n",
       "        1.00799140e+01,  1.79380320e+01,  1.93179640e+01,  1.54416850e+01,\n",
       "        2.45572505e+01,  2.60333044e+01,  2.51713376e+01,  2.69220183e+01,\n",
       "        2.52722108e+01,  2.83074781e+01,  2.56652431e+01,  3.30856189e+01,\n",
       "        3.20210224e+01,  3.56472215e+01,  3.41494701e+01,  4.03329174e+01,\n",
       "        4.63856176e+01,  3.49463171e+01,  4.20395333e+01,  4.94070961e+01,\n",
       "        5.27969067e+01,  5.97357285e+01,  6.40735820e+01,  4.94382336e+01,\n",
       "        5.52436425e+01,  5.91184294e+01,  6.18995810e+01,  6.46050317e+01,\n",
       "        7.02218393e+01,  7.73217059e+01,  6.80982620e+01,  6.63718565e+01,\n",
       "        7.96845240e+01,  7.88181202e+01,  7.45984696e+01,  9.27053455e+01,\n",
       "        8.72169495e+01,  8.96734186e+01,  8.15023588e+01,  8.41480964e+01,\n",
       "        9.01496475e+01,  9.04861087e+01,  9.48941915e+01,  9.23743363e+01,\n",
       "        1.03381159e+02,  1.12727501e+02,  1.04568874e+02,  9.27417475e+01,\n",
       "        1.03391734e+02,  1.02628491e+02,  1.10370842e+02,  1.16179449e+02,\n",
       "        1.15622811e+02,  1.09324205e+02,  1.26957238e+02,  1.22951764e+02,\n",
       "        1.23265204e+02,  1.22319139e+02,  1.24050206e+02,  1.34185232e+02,\n",
       "        1.23416035e+02,  1.40193880e+02,  1.32233979e+02,  1.32911016e+02,\n",
       "        1.34719047e+02,  1.49486378e+02,  1.41715062e+02,  1.56162066e+02,\n",
       "        1.50510774e+02,  1.53883190e+02,  1.54823861e+02,  1.53272630e+02,\n",
       "        1.53281076e+02,  1.54480617e+02,  1.50157125e+02,  1.57758167e+02,\n",
       "        1.67211068e+02,  1.67357116e+02,  1.69057674e+02,  1.72010833e+02,\n",
       "        1.77699582e+02,  1.70267280e+02,  1.76436203e+02,  1.73562698e+02,\n",
       "        1.84376475e+02,  1.79726739e+02,  1.85660830e+02,  1.86371388e+02,\n",
       "        1.83076374e+02,  1.86936793e+02,  1.95565952e+02,  1.97759329e+02,\n",
       "        1.97454529e+02,  1.97081969e+02,  1.94487492e+02])"
      ]
     },
     "execution_count": 17,
     "metadata": {},
     "output_type": "execute_result"
    }
   ],
   "source": [
    "a = np.arange(1,100,1)\n",
    "b = (1) + (2)*a\n",
    "b_noise = b + 5 * np.random.randn(*b.shape)\n",
    "b_noise"
   ]
  },
  {
   "cell_type": "code",
   "execution_count": 29,
   "metadata": {},
   "outputs": [
    {
     "data": {
      "text/plain": [
       "<matplotlib.axes._subplots.AxesSubplot at 0x7fb63527f4e0>"
      ]
     },
     "execution_count": 29,
     "metadata": {},
     "output_type": "execute_result"
    },
    {
     "data": {
      "image/png": "[encoded data removed]",
      "text/plain": [
       "<Figure size 432x288 with 1 Axes>"
      ]
     },
     "metadata": {},
     "output_type": "display_data"
    }
   ],
   "source": [
    "a = np.arange(1,100,1)\n",
    "b = (1) + (20000)*a\n",
    "b_noise = b + (10000000 * np.random.randn(*b.shape))\n",
    "b_noise\n",
    "\n",
    "sns.scatterplot(a,b)\n",
    "sns.scatterplot(a,b_noise)"
   ]
  },
  {
   "cell_type": "code",
   "execution_count": 37,
   "metadata": {},
   "outputs": [
    {
     "name": "stdout",
     "output_type": "stream",
     "text": [
      "[100 101 102 103 104 105 106 107 108 109]\n",
      "[ 0.43822076 -0.18676265  0.30961118 -0.76101445  0.94147236 -0.54441578\n",
      " -2.2608582   1.54065602 -0.67853652 -0.5743959 ]\n",
      "[100.43822076 100.81323735 102.30961118 102.23898555 104.94147236\n",
      " 104.45558422 103.7391418  108.54065602 107.32146348 108.4256041 ]\n"
     ]
    }
   ],
   "source": [
    "x = np.arange(100,110,1)\n",
    "noise = np.random.randn(*x.shape)\n",
    "x_noise = x + noise\n",
    "\n",
    "print(x)\n",
    "print(noise)\n",
    "print(x_noise)"
   ]
  },
  {
   "cell_type": "code",
   "execution_count": 35,
   "metadata": {},
   "outputs": [
    {
     "data": {
      "text/plain": [
       "array([ -1.79788864,  -9.38941449,  -4.31503293, -14.62440819,\n",
       "         0.20016237])"
      ]
     },
     "execution_count": 35,
     "metadata": {},
     "output_type": "execute_result"
    }
   ],
   "source": [
    "10 * np.random.randn(5)"
   ]
  },
  {
   "cell_type": "code",
   "execution_count": 36,
   "metadata": {},
   "outputs": [],
   "source": [
    "p = np.array([0,1,2,3,4])\n",
    "q = np.array([1,3,7,13,21])"
   ]
  },
  {
   "cell_type": "code",
   "execution_count": null,
   "metadata": {},
   "outputs": [],
   "source": [
    "sns.scatterplot(p,q)"
   ]
  },
  {
   "cell_type": "code",
   "execution_count": null,
   "metadata": {},
   "outputs": [],
   "source": [
    "r = 20.12345\n",
    "r = r - sum(p)\n",
    "r"
   ]
  },
  {
   "cell_type": "code",
   "execution_count": null,
   "metadata": {},
   "outputs": [],
   "source": []
  }
 ],
 "metadata": {
  "kernelspec": {
   "display_name": "Python 3",
   "language": "python",
   "name": "python3"
  },
  "language_info": {
   "codemirror_mode": {
    "name": "ipython",
    "version": 3
   },
   "file_extension": ".py",
   "mimetype": "text/x-python",
   "name": "python",
   "nbconvert_exporter": "python",
   "pygments_lexer": "ipython3",
   "version": "3.5.2"
  }
 },
 "nbformat": 4,
 "nbformat_minor": 2
}
